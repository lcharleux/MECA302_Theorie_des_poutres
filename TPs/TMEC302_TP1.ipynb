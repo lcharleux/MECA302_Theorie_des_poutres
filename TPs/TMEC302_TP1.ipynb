{
 "cells": [
  {
   "cell_type": "markdown",
   "metadata": {},
   "source": [
    "## NOM:  xxxx   Prénom: xxx\n",
    "\n",
    "Une fois fini, rendre votre compte rendu sous forme de fichier HTML (file/download as/html) sur le dépôt dédié sur la page EAD du cours."
   ]
  },
  {
   "cell_type": "markdown",
   "metadata": {},
   "source": [
    "# MECA302 RESISTANCE DES MATERIAUX\n",
    "\n",
    "## TP n°1"
   ]
  },
  {
   "cell_type": "code",
   "execution_count": null,
   "metadata": {},
   "outputs": [],
   "source": [
    "# Quelques librairies\n",
    "%matplotlib nbagg\n",
    "%load_ext autoreload\n",
    "%autoreload 2\n",
    "import numpy as np\n",
    "import sympy as sp\n",
    "import matplotlib.pyplot as plt\n",
    "from MECA302 import Torseur\n",
    "sp.init_printing(use_latex = \"mathjax\")"
   ]
  },
  {
   "cell_type": "markdown",
   "metadata": {},
   "source": [
    "### Avant de commencer: introduction à Python et en particulier Sympy\n",
    "\n",
    "Ce TP utilise uniquement des outils libres (Open Source) liés au langage Python. Une librairie dédiée à nos problèmes de torseurs a été écrite pour l'occasion, c'est le fichier `MECA302.py`qui est dans le même dossier. Ce TP utilise beaucoup le module Sympy qui permet d'introduire du calcul formel dans Python. Voici donc quelques outils indispensables pour démarrer avec Sympy:"
   ]
  },
  {
   "cell_type": "code",
   "execution_count": null,
   "metadata": {},
   "outputs": [],
   "source": [
    "a, b, c, x = sp.symbols(\"a b c x\", real = True) # Création d'une ou plusieurs variable littérale. \n",
    "#Ici on spécifie que sont des réels\n",
    "a, b, c, x"
   ]
  },
  {
   "cell_type": "code",
   "execution_count": null,
   "metadata": {},
   "outputs": [],
   "source": [
    "y = a*x**2 + b*x + c # y est une expression qui dépend des variables créées précédement.\n",
    "y.diff(x) # On peut dériver par rapport à x"
   ]
  },
  {
   "cell_type": "code",
   "execution_count": null,
   "metadata": {},
   "outputs": [],
   "source": [
    "y.integrate(x) # Une primitive"
   ]
  },
  {
   "cell_type": "code",
   "execution_count": null,
   "metadata": {},
   "outputs": [],
   "source": [
    "y.integrate((x, 0, 5)).simplify() # Une intégrale entre 0 et 5"
   ]
  },
  {
   "cell_type": "code",
   "execution_count": null,
   "metadata": {},
   "outputs": [],
   "source": [
    "z = y**3 # Une expression plus complexe\n",
    "z"
   ]
  },
  {
   "cell_type": "code",
   "execution_count": null,
   "metadata": {},
   "outputs": [],
   "source": [
    "z.expand() # Développer"
   ]
  },
  {
   "cell_type": "code",
   "execution_count": null,
   "metadata": {},
   "outputs": [],
   "source": [
    "eq1 = sp.Eq(y, 0) # L'équation y = 0\n",
    "eq1"
   ]
  },
  {
   "cell_type": "code",
   "execution_count": null,
   "metadata": {},
   "outputs": [],
   "source": [
    "sp.solve(eq1, x) # Les solutions de l'équation !"
   ]
  },
  {
   "cell_type": "code",
   "execution_count": null,
   "metadata": {},
   "outputs": [],
   "source": [
    "# Utiliser des valeurs numériques:\n",
    "y.subs(x, 5) # On substitue une valeur une fois"
   ]
  },
  {
   "cell_type": "code",
   "execution_count": null,
   "metadata": {},
   "outputs": [],
   "source": [
    "values = {a:5., b:4., c:7.} # Une bonne manière de définie les valeurs numériques connues d'un coup\n",
    "yv = y.subs(values)\n",
    "yv"
   ]
  },
  {
   "cell_type": "code",
   "execution_count": null,
   "metadata": {},
   "outputs": [],
   "source": [
    "yf = sp.lambdify(x, yv, \"numpy\") # Une fonction vectorielle, c'est à dire applicable en N points d'un coup\n",
    "xv = np.linspace(0., 1., 11) # 11 valeurs de x équiréparties entre 0 et 1.\n",
    "xv"
   ]
  },
  {
   "cell_type": "code",
   "execution_count": null,
   "metadata": {},
   "outputs": [],
   "source": [
    "yf(xv) # Pratique !"
   ]
  },
  {
   "cell_type": "code",
   "execution_count": null,
   "metadata": {},
   "outputs": [],
   "source": [
    "plt.figure()\n",
    "plt.plot(xv, yf(xv))\n",
    "plt.grid()\n",
    "plt.xlabel(\"Valeurs de $x$\")\n",
    "plt.ylabel(\"Valeurs de $y$\")\n",
    "plt.show()"
   ]
  },
  {
   "cell_type": "markdown",
   "metadata": {},
   "source": [
    "### Première Partie: traitement d'un problème simple au résultat connu\n",
    "\n",
    "#### Quelques outils qui vous seront utiles"
   ]
  },
  {
   "cell_type": "markdown",
   "metadata": {},
   "source": [
    "Exemple d'utilisation de la classe *Torseur*"
   ]
  },
  {
   "cell_type": "code",
   "execution_count": null,
   "metadata": {},
   "outputs": [],
   "source": [
    "F, L, x = sp.symbols(\"F L x\")\n",
    "TF = Torseur(r = [0, -F, 0], p = [L, 0, 0])\n",
    "TF  = TF.transport([L/2,0,0])\n",
    "TF"
   ]
  },
  {
   "cell_type": "markdown",
   "metadata": {},
   "source": [
    "#### Problème à traiter\n"
   ]
  },
  {
   "cell_type": "code",
   "execution_count": null,
   "metadata": {},
   "outputs": [],
   "source": [
    "from IPython.display import Image, SVG\n",
    "SVG(filename='TP2_ex1.svg')"
   ]
  },
  {
   "cell_type": "markdown",
   "metadata": {
    "collapsed": true
   },
   "source": [
    "On suppose que la poutre est homogène, section uniforme ayant un moment quadratique $I_z$. Le matériau constitutif est élastique de module de Young $E$. La section est carrée de coté $a$. \n",
    "\n",
    "##### Travail demandé\n",
    "* Ecrire les torseurs d'action mécanique en $A$ et $B$ en utilisant la classe Torseur:"
   ]
  },
  {
   "cell_type": "code",
   "execution_count": null,
   "metadata": {},
   "outputs": [],
   "source": []
  },
  {
   "cell_type": "markdown",
   "metadata": {},
   "source": [
    "* Ecrire l'équilibre et en déduire la valeur des inconnues de liaison"
   ]
  },
  {
   "cell_type": "code",
   "execution_count": null,
   "metadata": {},
   "outputs": [],
   "source": []
  },
  {
   "cell_type": "markdown",
   "metadata": {},
   "source": [
    "* Ecrire le torseur de cohésion\n",
    "\n",
    "Astuce: vous le droit de définir une variable $x$  et un point $G(x)$ auquel transporter le torseur *ad hoc*."
   ]
  },
  {
   "cell_type": "code",
   "execution_count": null,
   "metadata": {},
   "outputs": [],
   "source": []
  },
  {
   "cell_type": "markdown",
   "metadata": {},
   "source": [
    "* Calculer la flèche $u_y(x)$ en tout point de la poutre. "
   ]
  },
  {
   "cell_type": "code",
   "execution_count": null,
   "metadata": {},
   "outputs": [],
   "source": []
  },
  {
   "cell_type": "markdown",
   "metadata": {},
   "source": [
    "* Faire une application numérique en sachant que $L = 1$ m, $F = 1$ kN, $E = 200$ GPa et $a = 2$ cm et tracer la forme de la déformée. "
   ]
  },
  {
   "cell_type": "code",
   "execution_count": null,
   "metadata": {},
   "outputs": [],
   "source": []
  },
  {
   "cell_type": "markdown",
   "metadata": {},
   "source": [
    "* En déduire l'endroit où la flèche est maximale et sa valeur."
   ]
  },
  {
   "cell_type": "code",
   "execution_count": null,
   "metadata": {},
   "outputs": [],
   "source": []
  },
  {
   "cell_type": "markdown",
   "metadata": {},
   "source": [
    "### Second partie: traitement d'un problème plus complexe\n"
   ]
  },
  {
   "cell_type": "code",
   "execution_count": null,
   "metadata": {},
   "outputs": [],
   "source": [
    "from IPython.display import Image, SVG\n",
    "SVG(filename='TP2_ex2.svg')"
   ]
  },
  {
   "cell_type": "markdown",
   "metadata": {},
   "source": [
    "La poutre ci dessus est droite, homogène, de section carrée de coté $a$ et de longueur $L$. Elle est soumis à une chargé répartie affine:\n",
    "$$\n",
    "f(x) = -f_0 + (f_0-f_1) \\dfrac{x}{L}\n",
    "$$\n",
    "On notera que $f_0$ et $f_1$ sont des constantes. La poutre repose sur deux appuis situés en $B(x = b)$ et $C(x=c)$.  \n",
    "\n",
    "##### Travail demandé\n",
    "* Ecrire les torseurs d'action mécanique en $B$,  $C$ et celui découlant de la force répartie $f$ en utilisant la classe Torseur:"
   ]
  },
  {
   "cell_type": "code",
   "execution_count": null,
   "metadata": {},
   "outputs": [],
   "source": []
  },
  {
   "cell_type": "markdown",
   "metadata": {},
   "source": [
    "* Ecrire l'équilibre et en déduire la valeur des inconnues de liaison"
   ]
  },
  {
   "cell_type": "code",
   "execution_count": null,
   "metadata": {},
   "outputs": [],
   "source": []
  },
  {
   "cell_type": "markdown",
   "metadata": {},
   "source": [
    "* Ecrire le torseur de cohésion dans les différents cas possibles\n"
   ]
  },
  {
   "cell_type": "code",
   "execution_count": null,
   "metadata": {},
   "outputs": [],
   "source": []
  },
  {
   "cell_type": "markdown",
   "metadata": {},
   "source": [
    "* Calculer la flèche $u_y(x)$ en tout point de la poutre. "
   ]
  },
  {
   "cell_type": "code",
   "execution_count": null,
   "metadata": {},
   "outputs": [],
   "source": []
  },
  {
   "cell_type": "markdown",
   "metadata": {},
   "source": [
    "* Faire une application numérique en sachant que $L = 1$ m, $f_0 = 1$ kN/m, $f_1 = 4$ kN/m, $E = 200$ GPa et $a = 2$ cm. Le résultat dépend encore de $b$ et $c$. "
   ]
  },
  {
   "cell_type": "code",
   "execution_count": null,
   "metadata": {},
   "outputs": [],
   "source": []
  },
  {
   "cell_type": "markdown",
   "metadata": {},
   "source": [
    "* On va supposer que les deux points $B$ et $C$ sont symmétriques dans un premier temps. On a alors $a = L/2 -e$ et $b =L/2+e$. Tracer la flèche maximale en fonction $e \\in [0, L/2]$ et en déduire la valeur optimale de $e$ pour minimiser la flèche."
   ]
  },
  {
   "cell_type": "code",
   "execution_count": null,
   "metadata": {},
   "outputs": [],
   "source": []
  },
  {
   "cell_type": "markdown",
   "metadata": {},
   "source": [
    "* On suppose maintenant que $a$ et $b$ sont indépendants. Proposez une méthode pour trouver la valeur optimale de chacun des paramètres."
   ]
  },
  {
   "cell_type": "code",
   "execution_count": null,
   "metadata": {},
   "outputs": [],
   "source": []
  }
 ],
 "metadata": {
  "anaconda-cloud": {},
  "kernelspec": {
   "display_name": "Python 3.8.9 64-bit",
   "language": "python",
   "name": "python3"
  },
  "language_info": {
   "codemirror_mode": {
    "name": "ipython",
    "version": 3
   },
   "file_extension": ".py",
   "mimetype": "text/x-python",
   "name": "python",
   "nbconvert_exporter": "python",
   "pygments_lexer": "ipython3",
   "version": "3.8.9"
  },
  "vscode": {
   "interpreter": {
    "hash": "df0893f56f349688326838aaeea0de204df53a132722cbd565e54b24a8fec5f6"
   }
  }
 },
 "nbformat": 4,
 "nbformat_minor": 1
}
