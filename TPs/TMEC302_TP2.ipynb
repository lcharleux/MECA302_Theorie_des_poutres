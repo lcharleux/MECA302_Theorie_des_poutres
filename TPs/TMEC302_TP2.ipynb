{
 "cells": [
  {
   "cell_type": "markdown",
   "metadata": {},
   "source": [
    "## NOM:  xxxx   Prénom: xxx\n",
    "\n",
    "Une fois fini, rendre votre compte rendu sous forme de fichier HTML (file/download as/html) sur le dépôt dédié sur la page EAD du cours."
   ]
  },
  {
   "cell_type": "markdown",
   "metadata": {},
   "source": [
    "# MECA302 RESISTANCE DES MATERIAUX\n",
    "\n",
    "## TP n°2: Résolution de problèmes hyperstatiques par les méthodes énergétiques\n",
    "\n",
    "\n",
    "### Quelques outils\n"
   ]
  },
  {
   "cell_type": "code",
   "execution_count": null,
   "metadata": {},
   "outputs": [],
   "source": [
    "%load_ext autoreload\n",
    "%autoreload 2\n",
    "%matplotlib  nbagg\n",
    "\n",
    "# Quelques librairies\n",
    "import numpy as np\n",
    "import sympy as sp\n",
    "import matplotlib.pyplot as plt\n",
    "from MECA302 import Torseur\n",
    "\n",
    "\n",
    "sp.init_printing(use_latex = \"mathjax\")"
   ]
  },
  {
   "cell_type": "markdown",
   "metadata": {},
   "source": [
    "### Contexte\n",
    "\n",
    "On veut modéliser le comportement d'une poutre représentée ci-dessous. Le problème est considéré comme plan. La poutre de longueur $L$ et de section rectangulaire (hauteur $h$ et largeur $b$) est articulée en $O$ et en appuis ponctuels de direction $\\vec y$ en $A$ et $B = $. Les points $A$ et $B$ sont respectivement aux abscisses $a$ et $L$. La poutre est soumise dans son ensemble à une force répartie $\\vec f$ homogène qui vérifie $\\vec f = -f \\vec y$ avec $f \\geq 0$.  \n"
   ]
  },
  {
   "cell_type": "code",
   "execution_count": null,
   "metadata": {},
   "outputs": [],
   "source": [
    "from IPython.display import Image, SVG\n",
    "SVG(filename='TP3_ex1.svg')"
   ]
  },
  {
   "cell_type": "markdown",
   "metadata": {},
   "source": [
    "#### Travail demandé\n",
    "\n",
    "* Formuler le problème, écrire les torseurs et appliquez les PFS pour en déduire les inconnues de liaisons."
   ]
  },
  {
   "cell_type": "code",
   "execution_count": null,
   "metadata": {},
   "outputs": [],
   "source": []
  },
  {
   "cell_type": "markdown",
   "metadata": {},
   "source": [
    "**Remarque**: Vous constatez sûrement que le problème qu'on vous demande de résoudre est impossible. En effet, il y a trop d'inconnues de liaison. Ce type de problème est dit hyperstatique. Il est possible de les résoudre quand même en les reformulant de la manière suivante. On peut supposer la force de liaison $Y_A \\vec z$ exercée par la liaison ponctuelle en $A$ est en fait une force appliquée et non pas une liaison. Il est alors possible de résoudre le problème mais la valeur de cette force est inconnue. On peut utiliser les théorèmes énergétiques pour calculer la valeur de $Y_A$ pour que le déplacement vertical (selon $\\vec y$) en $A$ soit nul ce qui revient à respecter la liaison."
   ]
  },
  {
   "cell_type": "markdown",
   "metadata": {},
   "source": [
    "#### Théorèmes énergétiques: un peu de théorie\n",
    "\n",
    "Une structure mécanique soumis à un chargement se déforme sous son effet en emmagazine ainsi de l'énergie. Dans le cas d'une poutre en flexion comme c'est le cas ici, cette énergie élastique $U$ peut s'écrire:\n",
    "\n",
    "$$\n",
    "U = \\int \\dfrac{M_{fz}^2}{EI_z}dx\n",
    "$$\n",
    "\n",
    "Deux théorèmes très utiles relient l'énergie élastique, les efforts et les déplacements. Plus spécifiquement, si une force $F_i$ est appliquée dans une direction $\\vec e_i$ en un point $P_i$. On note le déplacement en ce point et dans cette direction $u_i$. Alors:\n",
    "\n",
    "1. Le théorème de Castigliano indique que:\n",
    "\n",
    "$$\n",
    "\\dfrac{\\partial U}{\\partial F_i} = u_i\n",
    "$$\n",
    "\n",
    "2. Le théorème de Menabrea indique réciproquement que:\n",
    "\n",
    "$$\n",
    "\\dfrac{\\partial U}{\\partial u_i} = F_i\n",
    "$$\n",
    "\n",
    "Tout cela permet de progresser sur le problème posé. Ainsi, on peut se dire que celui-ci n'est pas hyperstatique si on voit la liaison ponctuelle en $A$ comme une simple force concentrée $Y_A \\vec y$. Dans ce contexte, on peut résoudre le problème, calculer l'énégie élastique en en déduire la valeur de $Y_A$ qui garantit que $u_y(a) = 0$. \n",
    "\n",
    "* Mettre en pratique et appliquer le PFS en supposant que $Y_A$ est connu."
   ]
  },
  {
   "cell_type": "code",
   "execution_count": null,
   "metadata": {},
   "outputs": [],
   "source": []
  },
  {
   "cell_type": "markdown",
   "metadata": {},
   "source": [
    "* Calculer le torseur de cohésion et en déduire le moment fléchissant pour les deux secteurs de la poutre."
   ]
  },
  {
   "cell_type": "code",
   "execution_count": null,
   "metadata": {},
   "outputs": [],
   "source": []
  },
  {
   "cell_type": "markdown",
   "metadata": {},
   "source": [
    "* Calculer l'énergie de déformation de la poutre."
   ]
  },
  {
   "cell_type": "code",
   "execution_count": null,
   "metadata": {},
   "outputs": [],
   "source": []
  },
  {
   "cell_type": "markdown",
   "metadata": {},
   "source": [
    "* Utiliser les théorèmes énergétique (bien choisir) pour obtenir l'expression de $Y_A$."
   ]
  },
  {
   "cell_type": "code",
   "execution_count": null,
   "metadata": {},
   "outputs": [],
   "source": []
  },
  {
   "cell_type": "markdown",
   "metadata": {},
   "source": [
    "* En déduire la formule du déplacement vertical $u_y(x)$ de la poutre."
   ]
  },
  {
   "cell_type": "code",
   "execution_count": null,
   "metadata": {},
   "outputs": [],
   "source": []
  },
  {
   "cell_type": "markdown",
   "metadata": {},
   "source": [
    "* On donne les valeurs numériques suivantes: $L = 1$ m, $f = 1$ kN/m, $E = 200$ GPa, $b = 1$ cm et $h=2$ cm. Tracez la déformée pour les toutes les valeurs de $a/L$ $\\in$ $\\lbrace 0.1,0.2, 0.3, 0.4, 0.5 \\rbrace$. "
   ]
  },
  {
   "cell_type": "code",
   "execution_count": null,
   "metadata": {},
   "outputs": [],
   "source": []
  }
 ],
 "metadata": {
  "anaconda-cloud": {},
  "kernelspec": {
   "display_name": "Python 3.7.12 ('env1')",
   "language": "python",
   "name": "python3"
  },
  "language_info": {
   "codemirror_mode": {
    "name": "ipython",
    "version": 3
   },
   "file_extension": ".py",
   "mimetype": "text/x-python",
   "name": "python",
   "nbconvert_exporter": "python",
   "pygments_lexer": "ipython3",
   "version": "3.7.12"
  },
  "vscode": {
   "interpreter": {
    "hash": "2ca6ca49e3d520c90cec32c6a563248ab4569d3afbb476cccf2d03cc5731dd28"
   }
  }
 },
 "nbformat": 4,
 "nbformat_minor": 1
}
